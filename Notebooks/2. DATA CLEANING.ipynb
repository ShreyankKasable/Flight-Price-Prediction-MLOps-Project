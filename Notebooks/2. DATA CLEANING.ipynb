{
 "cells": [
  {
   "cell_type": "code",
   "execution_count": 1,
   "id": "e1578bf0",
   "metadata": {},
   "outputs": [],
   "source": [
    "import pandas as pd\n",
    "import numpy as np\n",
    "import os \n",
    "import warnings\n",
    "warnings.filterwarnings(\"ignore\")"
   ]
  },
  {
   "cell_type": "code",
   "execution_count": 104,
   "id": "ab899a82",
   "metadata": {},
   "outputs": [],
   "source": [
    "df = pd.read_csv(\"../Data/flight_price.csv\")"
   ]
  },
  {
   "cell_type": "code",
   "execution_count": 3,
   "id": "a0bb950b",
   "metadata": {},
   "outputs": [
    {
     "data": {
      "text/html": [
       "<div>\n",
       "<style scoped>\n",
       "    .dataframe tbody tr th:only-of-type {\n",
       "        vertical-align: middle;\n",
       "    }\n",
       "\n",
       "    .dataframe tbody tr th {\n",
       "        vertical-align: top;\n",
       "    }\n",
       "\n",
       "    .dataframe thead th {\n",
       "        text-align: right;\n",
       "    }\n",
       "</style>\n",
       "<table border=\"1\" class=\"dataframe\">\n",
       "  <thead>\n",
       "    <tr style=\"text-align: right;\">\n",
       "      <th></th>\n",
       "      <th>Airline</th>\n",
       "      <th>Date_of_Journey</th>\n",
       "      <th>Source</th>\n",
       "      <th>Destination</th>\n",
       "      <th>Route</th>\n",
       "      <th>Dep_Time</th>\n",
       "      <th>Arrival_Time</th>\n",
       "      <th>Duration</th>\n",
       "      <th>Total_Stops</th>\n",
       "      <th>Additional_Info</th>\n",
       "      <th>Price</th>\n",
       "    </tr>\n",
       "  </thead>\n",
       "  <tbody>\n",
       "    <tr>\n",
       "      <th>0</th>\n",
       "      <td>IndiGo</td>\n",
       "      <td>24/03/2019</td>\n",
       "      <td>Banglore</td>\n",
       "      <td>New Delhi</td>\n",
       "      <td>BLR → DEL</td>\n",
       "      <td>22:20</td>\n",
       "      <td>01:10 22 Mar</td>\n",
       "      <td>2h 50m</td>\n",
       "      <td>non-stop</td>\n",
       "      <td>No info</td>\n",
       "      <td>3897</td>\n",
       "    </tr>\n",
       "    <tr>\n",
       "      <th>1</th>\n",
       "      <td>Air India</td>\n",
       "      <td>1/05/2019</td>\n",
       "      <td>Kolkata</td>\n",
       "      <td>Banglore</td>\n",
       "      <td>CCU → IXR → BBI → BLR</td>\n",
       "      <td>05:50</td>\n",
       "      <td>13:15</td>\n",
       "      <td>7h 25m</td>\n",
       "      <td>2 stops</td>\n",
       "      <td>No info</td>\n",
       "      <td>7662</td>\n",
       "    </tr>\n",
       "    <tr>\n",
       "      <th>2</th>\n",
       "      <td>Jet Airways</td>\n",
       "      <td>9/06/2019</td>\n",
       "      <td>Delhi</td>\n",
       "      <td>Cochin</td>\n",
       "      <td>DEL → LKO → BOM → COK</td>\n",
       "      <td>09:25</td>\n",
       "      <td>04:25 10 Jun</td>\n",
       "      <td>19h</td>\n",
       "      <td>2 stops</td>\n",
       "      <td>No info</td>\n",
       "      <td>13882</td>\n",
       "    </tr>\n",
       "    <tr>\n",
       "      <th>3</th>\n",
       "      <td>IndiGo</td>\n",
       "      <td>12/05/2019</td>\n",
       "      <td>Kolkata</td>\n",
       "      <td>Banglore</td>\n",
       "      <td>CCU → NAG → BLR</td>\n",
       "      <td>18:05</td>\n",
       "      <td>23:30</td>\n",
       "      <td>5h 25m</td>\n",
       "      <td>1 stop</td>\n",
       "      <td>No info</td>\n",
       "      <td>6218</td>\n",
       "    </tr>\n",
       "    <tr>\n",
       "      <th>4</th>\n",
       "      <td>IndiGo</td>\n",
       "      <td>01/03/2019</td>\n",
       "      <td>Banglore</td>\n",
       "      <td>New Delhi</td>\n",
       "      <td>BLR → NAG → DEL</td>\n",
       "      <td>16:50</td>\n",
       "      <td>21:35</td>\n",
       "      <td>4h 45m</td>\n",
       "      <td>1 stop</td>\n",
       "      <td>No info</td>\n",
       "      <td>13302</td>\n",
       "    </tr>\n",
       "  </tbody>\n",
       "</table>\n",
       "</div>"
      ],
      "text/plain": [
       "       Airline Date_of_Journey    Source Destination                  Route  \\\n",
       "0       IndiGo      24/03/2019  Banglore   New Delhi              BLR → DEL   \n",
       "1    Air India       1/05/2019   Kolkata    Banglore  CCU → IXR → BBI → BLR   \n",
       "2  Jet Airways       9/06/2019     Delhi      Cochin  DEL → LKO → BOM → COK   \n",
       "3       IndiGo      12/05/2019   Kolkata    Banglore        CCU → NAG → BLR   \n",
       "4       IndiGo      01/03/2019  Banglore   New Delhi        BLR → NAG → DEL   \n",
       "\n",
       "  Dep_Time  Arrival_Time Duration Total_Stops Additional_Info  Price  \n",
       "0    22:20  01:10 22 Mar   2h 50m    non-stop         No info   3897  \n",
       "1    05:50         13:15   7h 25m     2 stops         No info   7662  \n",
       "2    09:25  04:25 10 Jun      19h     2 stops         No info  13882  \n",
       "3    18:05         23:30   5h 25m      1 stop         No info   6218  \n",
       "4    16:50         21:35   4h 45m      1 stop         No info  13302  "
      ]
     },
     "execution_count": 3,
     "metadata": {},
     "output_type": "execute_result"
    }
   ],
   "source": [
    "df.head()"
   ]
  },
  {
   "cell_type": "code",
   "execution_count": 4,
   "id": "e9509244",
   "metadata": {},
   "outputs": [
    {
     "name": "stdout",
     "output_type": "stream",
     "text": [
      "<class 'pandas.core.frame.DataFrame'>\n",
      "RangeIndex: 10683 entries, 0 to 10682\n",
      "Data columns (total 11 columns):\n",
      " #   Column           Non-Null Count  Dtype \n",
      "---  ------           --------------  ----- \n",
      " 0   Airline          10683 non-null  object\n",
      " 1   Date_of_Journey  10683 non-null  object\n",
      " 2   Source           10683 non-null  object\n",
      " 3   Destination      10683 non-null  object\n",
      " 4   Route            10682 non-null  object\n",
      " 5   Dep_Time         10683 non-null  object\n",
      " 6   Arrival_Time     10683 non-null  object\n",
      " 7   Duration         10683 non-null  object\n",
      " 8   Total_Stops      10682 non-null  object\n",
      " 9   Additional_Info  10683 non-null  object\n",
      " 10  Price            10683 non-null  int64 \n",
      "dtypes: int64(1), object(10)\n",
      "memory usage: 918.2+ KB\n"
     ]
    }
   ],
   "source": [
    "df.info()"
   ]
  },
  {
   "cell_type": "code",
   "execution_count": 5,
   "id": "900848c3",
   "metadata": {},
   "outputs": [],
   "source": [
    "# OBSERVATION :-\n",
    "# The data set contains 10,683 rows and eleven features.\n",
    "# It also have single null value in Route and Total_Stops.\n",
    "# The data type of few columns are not correct:-\n",
    "        # The data type of columns such as Date_of_Journey, Dep_Time, Arrival_Time should be DATETIME but it is currently OBJECT.\n",
    "        # The data type of columns such as Total_Stops, Duration should be INTEGER but it is currently OBJECT."
   ]
  },
  {
   "cell_type": "markdown",
   "id": "70be6b79",
   "metadata": {},
   "source": [
    "## 3. PRELIMINARY ANALYSIS"
   ]
  },
  {
   "cell_type": "markdown",
   "id": "27b650fc",
   "metadata": {},
   "source": [
    "### 3.1 CHECKING DATATYPE"
   ]
  },
  {
   "cell_type": "code",
   "execution_count": 6,
   "id": "2fcc5829",
   "metadata": {},
   "outputs": [
    {
     "data": {
      "text/html": [
       "<div>\n",
       "<style scoped>\n",
       "    .dataframe tbody tr th:only-of-type {\n",
       "        vertical-align: middle;\n",
       "    }\n",
       "\n",
       "    .dataframe tbody tr th {\n",
       "        vertical-align: top;\n",
       "    }\n",
       "\n",
       "    .dataframe thead th {\n",
       "        text-align: right;\n",
       "    }\n",
       "</style>\n",
       "<table border=\"1\" class=\"dataframe\">\n",
       "  <thead>\n",
       "    <tr style=\"text-align: right;\">\n",
       "      <th></th>\n",
       "      <th>Airline</th>\n",
       "      <th>Date_of_Journey</th>\n",
       "      <th>Source</th>\n",
       "      <th>Destination</th>\n",
       "      <th>Route</th>\n",
       "      <th>Dep_Time</th>\n",
       "      <th>Arrival_Time</th>\n",
       "      <th>Duration</th>\n",
       "      <th>Total_Stops</th>\n",
       "      <th>Additional_Info</th>\n",
       "      <th>Price</th>\n",
       "    </tr>\n",
       "  </thead>\n",
       "  <tbody>\n",
       "    <tr>\n",
       "      <th>0</th>\n",
       "      <td>IndiGo</td>\n",
       "      <td>24/03/2019</td>\n",
       "      <td>Banglore</td>\n",
       "      <td>New Delhi</td>\n",
       "      <td>BLR → DEL</td>\n",
       "      <td>22:20</td>\n",
       "      <td>01:10 22 Mar</td>\n",
       "      <td>2h 50m</td>\n",
       "      <td>non-stop</td>\n",
       "      <td>No info</td>\n",
       "      <td>3897</td>\n",
       "    </tr>\n",
       "    <tr>\n",
       "      <th>1</th>\n",
       "      <td>Air India</td>\n",
       "      <td>1/05/2019</td>\n",
       "      <td>Kolkata</td>\n",
       "      <td>Banglore</td>\n",
       "      <td>CCU → IXR → BBI → BLR</td>\n",
       "      <td>05:50</td>\n",
       "      <td>13:15</td>\n",
       "      <td>7h 25m</td>\n",
       "      <td>2 stops</td>\n",
       "      <td>No info</td>\n",
       "      <td>7662</td>\n",
       "    </tr>\n",
       "  </tbody>\n",
       "</table>\n",
       "</div>"
      ],
      "text/plain": [
       "     Airline Date_of_Journey    Source Destination                  Route  \\\n",
       "0     IndiGo      24/03/2019  Banglore   New Delhi              BLR → DEL   \n",
       "1  Air India       1/05/2019   Kolkata    Banglore  CCU → IXR → BBI → BLR   \n",
       "\n",
       "  Dep_Time  Arrival_Time Duration Total_Stops Additional_Info  Price  \n",
       "0    22:20  01:10 22 Mar   2h 50m    non-stop         No info   3897  \n",
       "1    05:50         13:15   7h 25m     2 stops         No info   7662  "
      ]
     },
     "execution_count": 6,
     "metadata": {},
     "output_type": "execute_result"
    }
   ],
   "source": [
    "df.head(2)"
   ]
  },
  {
   "cell_type": "code",
   "execution_count": 7,
   "id": "0c7c9211",
   "metadata": {},
   "outputs": [
    {
     "data": {
      "text/plain": [
       "Airline            object\n",
       "Date_of_Journey    object\n",
       "Source             object\n",
       "Destination        object\n",
       "Route              object\n",
       "Dep_Time           object\n",
       "Arrival_Time       object\n",
       "Duration           object\n",
       "Total_Stops        object\n",
       "Additional_Info    object\n",
       "Price               int64\n",
       "dtype: object"
      ]
     },
     "execution_count": 7,
     "metadata": {},
     "output_type": "execute_result"
    }
   ],
   "source": [
    "df.dtypes"
   ]
  },
  {
   "cell_type": "code",
   "execution_count": 8,
   "id": "46869614",
   "metadata": {},
   "outputs": [],
   "source": [
    "def maxMinLength(df, column):\n",
    "    maxi = 0\n",
    "    mini = 100 \n",
    "    for i in df[column]:\n",
    "\n",
    "        maxi = max(maxi, len(i))\n",
    "        mini = min(mini, len(i))\n",
    "\n",
    "    print(\"MAXIMUM LENGTH :-\", maxi)\n",
    "    print(\"MINIMUM LENGTH :-\", mini)\n",
    "    return maxi, mini\n",
    "\n",
    "def toFindUniqueLengthValueCount(df, column):\n",
    "    Dictionary = {}  \n",
    "\n",
    "    for i in df[column]:  \n",
    "        length = len(str(i))  \n",
    "\n",
    "        if length in Dictionary:\n",
    "            Dictionary[length] += 1  \n",
    "        else:\n",
    "            Dictionary[length] = 1  \n",
    "\n",
    "    return Dictionary\n",
    "\n",
    "def toPrintUniqueValue(df, columns):\n",
    "    mySet = set()\n",
    "    for i in df[columns]:\n",
    "\n",
    "        try:\n",
    "            if len(i) not in mySet:\n",
    "                print(len(i),\"->\",  i)\n",
    "                mySet.add(len(i))\n",
    "        except:\n",
    "            print(i)"
   ]
  },
  {
   "cell_type": "markdown",
   "id": "c5d40d81",
   "metadata": {},
   "source": [
    "##### 3.1.1. \"Date_of_Journey\" columns"
   ]
  },
  {
   "cell_type": "code",
   "execution_count": 9,
   "id": "934ab260",
   "metadata": {},
   "outputs": [
    {
     "data": {
      "text/plain": [
       "'24/03/2019'"
      ]
     },
     "execution_count": 9,
     "metadata": {},
     "output_type": "execute_result"
    }
   ],
   "source": [
    "df['Date_of_Journey'].iloc[0]"
   ]
  },
  {
   "cell_type": "code",
   "execution_count": 10,
   "id": "832d18f0",
   "metadata": {},
   "outputs": [
    {
     "data": {
      "text/plain": [
       "'1/05/2019'"
      ]
     },
     "execution_count": 10,
     "metadata": {},
     "output_type": "execute_result"
    }
   ],
   "source": [
    "df['Date_of_Journey'].iloc[1]"
   ]
  },
  {
   "cell_type": "code",
   "execution_count": 11,
   "id": "4d9ce06a",
   "metadata": {},
   "outputs": [
    {
     "name": "stdout",
     "output_type": "stream",
     "text": [
      "MAXIMUM LENGTH :- 10\n",
      "MINIMUM LENGTH :- 9\n"
     ]
    }
   ],
   "source": [
    "maxi, mini = maxMinLength(df, 'Date_of_Journey')"
   ]
  },
  {
   "cell_type": "code",
   "execution_count": 12,
   "id": "b9f944b5",
   "metadata": {},
   "outputs": [],
   "source": [
    "# OBSERVATION:- \n",
    "#     FROM THIS WE OBSERVE THAT THERE IS NO EXTRA DATA PRESENT IN DATA_OF_JOURNEY\n",
    "#     INSTANCES IT JUST CONSISTS OF DATA ABOUT EXACT DATE \n",
    "#     IF DATE < 10: LENGTH == 9\n",
    "#     ELSE : LENGTH == 10    \n",
    "#     Thus, there is no need to clean we just need to convert datatype"
   ]
  },
  {
   "cell_type": "markdown",
   "id": "b84001ea",
   "metadata": {},
   "source": [
    "##### 3.1.2. \"Dep_Time\" columns"
   ]
  },
  {
   "cell_type": "code",
   "execution_count": 13,
   "id": "165f6cd1",
   "metadata": {},
   "outputs": [
    {
     "data": {
      "text/plain": [
       "'22:20'"
      ]
     },
     "execution_count": 13,
     "metadata": {},
     "output_type": "execute_result"
    }
   ],
   "source": [
    "df['Dep_Time'].iloc[0]"
   ]
  },
  {
   "cell_type": "code",
   "execution_count": 14,
   "id": "8d51b999",
   "metadata": {},
   "outputs": [
    {
     "data": {
      "text/plain": [
       "'08:25'"
      ]
     },
     "execution_count": 14,
     "metadata": {},
     "output_type": "execute_result"
    }
   ],
   "source": [
    "df['Dep_Time'].iloc[100]"
   ]
  },
  {
   "cell_type": "code",
   "execution_count": 15,
   "id": "8c708d0f",
   "metadata": {},
   "outputs": [
    {
     "name": "stdout",
     "output_type": "stream",
     "text": [
      "MAXIMUM LENGTH :- 5\n",
      "MINIMUM LENGTH :- 5\n"
     ]
    }
   ],
   "source": [
    "maxi, mini = maxMinLength(df, 'Dep_Time')"
   ]
  },
  {
   "cell_type": "code",
   "execution_count": 16,
   "id": "4e4230ae",
   "metadata": {},
   "outputs": [],
   "source": [
    "# OBSERVATION:- \n",
    "#     As the length remains same and it just consists of require imformation. \n",
    "#     Thus, there is no need to clean we just need to convert datatype"
   ]
  },
  {
   "cell_type": "markdown",
   "id": "b9a837c7",
   "metadata": {},
   "source": [
    "##### 3.1.3. \"Arrival_Time\" columns"
   ]
  },
  {
   "cell_type": "code",
   "execution_count": 17,
   "id": "16575e2d",
   "metadata": {},
   "outputs": [
    {
     "name": "stdout",
     "output_type": "stream",
     "text": [
      "string :-  01:10 22 Mar\n",
      "length :  12\n"
     ]
    }
   ],
   "source": [
    "string = df['Arrival_Time'].iloc[0]\n",
    "print(\"string :- \", string)\n",
    "print(\"length : \", len(string))"
   ]
  },
  {
   "cell_type": "code",
   "execution_count": 18,
   "id": "c22202f1",
   "metadata": {},
   "outputs": [
    {
     "name": "stdout",
     "output_type": "stream",
     "text": [
      "string :-  13:15\n",
      "length :  5\n"
     ]
    }
   ],
   "source": [
    "string = df['Arrival_Time'].iloc[1]\n",
    "print(\"string :- \", string)\n",
    "print(\"length : \", len(string))"
   ]
  },
  {
   "cell_type": "code",
   "execution_count": 19,
   "id": "17989099",
   "metadata": {},
   "outputs": [
    {
     "name": "stdout",
     "output_type": "stream",
     "text": [
      "MAXIMUM LENGTH :- 12\n",
      "MINIMUM LENGTH :- 5\n"
     ]
    }
   ],
   "source": [
    "maxi, mini = maxMinLength(df, 'Arrival_Time')"
   ]
  },
  {
   "cell_type": "code",
   "execution_count": 20,
   "id": "5170ee54",
   "metadata": {},
   "outputs": [
    {
     "name": "stdout",
     "output_type": "stream",
     "text": [
      "Unique Length are:- {12: 4335, 5: 6348}\n"
     ]
    }
   ],
   "source": [
    "print(\"Unique Length are:-\", toFindUniqueLengthValueCount(df, 'Arrival_Time'))        "
   ]
  },
  {
   "cell_type": "code",
   "execution_count": 21,
   "id": "56ac4848",
   "metadata": {},
   "outputs": [],
   "source": [
    "# OBSERVATION:- \n",
    "#     As the string contain some unnecessary information there is need to clean.\n",
    "#     Thus, there ther is need to clean and convert datatype."
   ]
  },
  {
   "cell_type": "markdown",
   "id": "f448ddec",
   "metadata": {},
   "source": [
    "##### 3.1.4. \"Duration\" columns"
   ]
  },
  {
   "cell_type": "code",
   "execution_count": 22,
   "id": "597f4a14",
   "metadata": {},
   "outputs": [
    {
     "data": {
      "text/plain": [
       "'2h 50m'"
      ]
     },
     "execution_count": 22,
     "metadata": {},
     "output_type": "execute_result"
    }
   ],
   "source": [
    "df['Duration'].iloc[0]"
   ]
  },
  {
   "cell_type": "code",
   "execution_count": 23,
   "id": "19a03090",
   "metadata": {},
   "outputs": [
    {
     "data": {
      "text/plain": [
       "'8h 15m'"
      ]
     },
     "execution_count": 23,
     "metadata": {},
     "output_type": "execute_result"
    }
   ],
   "source": [
    "df['Duration'].iloc[2000]"
   ]
  },
  {
   "cell_type": "code",
   "execution_count": 24,
   "id": "54bfb4fa",
   "metadata": {},
   "outputs": [
    {
     "name": "stdout",
     "output_type": "stream",
     "text": [
      "MAXIMUM LENGTH :- 7\n",
      "MINIMUM LENGTH :- 2\n"
     ]
    }
   ],
   "source": [
    "maxi, mini = maxMinLength(df, 'Duration')"
   ]
  },
  {
   "cell_type": "code",
   "execution_count": 25,
   "id": "3390e8d5",
   "metadata": {},
   "outputs": [
    {
     "name": "stdout",
     "output_type": "stream",
     "text": [
      "Unique Length are:- {6: 5503, 3: 516, 7: 3884, 2: 516, 5: 264}\n"
     ]
    }
   ],
   "source": [
    "print(\"Unique Length are:-\", toFindUniqueLengthValueCount(df, 'Duration'))        "
   ]
  },
  {
   "cell_type": "code",
   "execution_count": 26,
   "id": "51920864",
   "metadata": {},
   "outputs": [
    {
     "name": "stdout",
     "output_type": "stream",
     "text": [
      "6 -> 2h 50m\n",
      "3 -> 19h\n",
      "7 -> 15h 30m\n",
      "2 -> 3h\n",
      "5 -> 3h 5m\n"
     ]
    }
   ],
   "source": [
    "toPrintUniqueValue(df, 'Duration')"
   ]
  },
  {
   "cell_type": "code",
   "execution_count": 27,
   "id": "c41e9cd2",
   "metadata": {},
   "outputs": [],
   "source": [
    "# OBSERVATION:- \n",
    "#     All length are legit. \n",
    "#     The string contain some extra data but it is useful to change dataype  "
   ]
  },
  {
   "cell_type": "markdown",
   "id": "6ead8a75",
   "metadata": {},
   "source": [
    "##### 3.1.5. \"Total_Stops\" columns"
   ]
  },
  {
   "cell_type": "code",
   "execution_count": 28,
   "id": "0814730e",
   "metadata": {},
   "outputs": [
    {
     "name": "stdout",
     "output_type": "stream",
     "text": [
      "string :-  non-stop\n",
      "length :  8\n"
     ]
    }
   ],
   "source": [
    "string = df['Total_Stops'].iloc[0]\n",
    "print(\"string :- \", string)\n",
    "print(\"length : \", len(string))"
   ]
  },
  {
   "cell_type": "code",
   "execution_count": 29,
   "id": "1535cf0d",
   "metadata": {},
   "outputs": [
    {
     "name": "stdout",
     "output_type": "stream",
     "text": [
      "Unique Length are:- {8: 3491, 7: 1566, 6: 5625, 3: 1}\n"
     ]
    }
   ],
   "source": [
    "print(\"Unique Length are:-\", toFindUniqueLengthValueCount(df, 'Total_Stops'))        "
   ]
  },
  {
   "cell_type": "code",
   "execution_count": 30,
   "id": "9bde36a4",
   "metadata": {},
   "outputs": [
    {
     "name": "stdout",
     "output_type": "stream",
     "text": [
      "8 -> non-stop\n",
      "7 -> 2 stops\n",
      "6 -> 1 stop\n",
      "nan\n"
     ]
    }
   ],
   "source": [
    "toPrintUniqueValue(df, 'Total_Stops')"
   ]
  },
  {
   "cell_type": "code",
   "execution_count": 31,
   "id": "1788e497",
   "metadata": {},
   "outputs": [
    {
     "data": {
      "text/plain": [
       "Total_Stops\n",
       "1 stop      5625\n",
       "non-stop    3491\n",
       "2 stops     1520\n",
       "3 stops       45\n",
       "4 stops        1\n",
       "Name: count, dtype: int64"
      ]
     },
     "execution_count": 31,
     "metadata": {},
     "output_type": "execute_result"
    }
   ],
   "source": [
    "df['Total_Stops'].value_counts()"
   ]
  },
  {
   "cell_type": "code",
   "execution_count": 32,
   "id": "793912d0",
   "metadata": {},
   "outputs": [],
   "source": [
    "# OBSERVATION:- \n",
    "#     As the string contain some unnecessary information there is need to clean.\n",
    "#     Thus, there ther is need to clean and convert datatype and there is also \n",
    "#           a null value which we need to handle "
   ]
  },
  {
   "cell_type": "code",
   "execution_count": 33,
   "id": "0186c764",
   "metadata": {},
   "outputs": [
    {
     "data": {
      "text/plain": [
       "Index(['Airline', 'Date_of_Journey', 'Source', 'Destination', 'Route',\n",
       "       'Dep_Time', 'Arrival_Time', 'Duration', 'Total_Stops',\n",
       "       'Additional_Info', 'Price'],\n",
       "      dtype='object')"
      ]
     },
     "execution_count": 33,
     "metadata": {},
     "output_type": "execute_result"
    }
   ],
   "source": [
    "df.columns"
   ]
  },
  {
   "cell_type": "markdown",
   "id": "11cc1846",
   "metadata": {},
   "source": [
    "##### 3.1.6. \"Airline\" columns"
   ]
  },
  {
   "cell_type": "code",
   "execution_count": 34,
   "id": "09616c39",
   "metadata": {},
   "outputs": [
    {
     "data": {
      "text/plain": [
       "Airline\n",
       "Jet Airways                          3849\n",
       "IndiGo                               2053\n",
       "Air India                            1752\n",
       "Multiple carriers                    1196\n",
       "SpiceJet                              818\n",
       "Vistara                               479\n",
       "Air Asia                              319\n",
       "GoAir                                 194\n",
       "Multiple carriers Premium economy      13\n",
       "Jet Airways Business                    6\n",
       "Vistara Premium economy                 3\n",
       "Trujet                                  1\n",
       "Name: count, dtype: int64"
      ]
     },
     "execution_count": 34,
     "metadata": {},
     "output_type": "execute_result"
    }
   ],
   "source": [
    "df['Airline'].value_counts()"
   ]
  },
  {
   "cell_type": "markdown",
   "id": "77186466",
   "metadata": {},
   "source": [
    "##### 3.1.7. \"Source\" columns"
   ]
  },
  {
   "cell_type": "code",
   "execution_count": 35,
   "id": "dec27bb4",
   "metadata": {},
   "outputs": [
    {
     "data": {
      "text/plain": [
       "Source\n",
       "Delhi       4537\n",
       "Kolkata     2871\n",
       "Banglore    2197\n",
       "Mumbai       697\n",
       "Chennai      381\n",
       "Name: count, dtype: int64"
      ]
     },
     "execution_count": 35,
     "metadata": {},
     "output_type": "execute_result"
    }
   ],
   "source": [
    "df['Source'].value_counts()"
   ]
  },
  {
   "cell_type": "markdown",
   "id": "b6b4f551",
   "metadata": {},
   "source": [
    "##### 3.1.8. \"Destination\" columns"
   ]
  },
  {
   "cell_type": "code",
   "execution_count": 36,
   "id": "429ccc4a",
   "metadata": {},
   "outputs": [
    {
     "data": {
      "text/plain": [
       "Destination\n",
       "Cochin       4537\n",
       "Banglore     2871\n",
       "Delhi        1265\n",
       "New Delhi     932\n",
       "Hyderabad     697\n",
       "Kolkata       381\n",
       "Name: count, dtype: int64"
      ]
     },
     "execution_count": 36,
     "metadata": {},
     "output_type": "execute_result"
    }
   ],
   "source": [
    "df['Destination'].value_counts()"
   ]
  },
  {
   "cell_type": "markdown",
   "id": "b34f9e34",
   "metadata": {},
   "source": [
    "##### 3.1.9. \"Route\" columns"
   ]
  },
  {
   "cell_type": "code",
   "execution_count": 37,
   "id": "57e0bc4d",
   "metadata": {},
   "outputs": [
    {
     "data": {
      "text/plain": [
       "Route\n",
       "DEL → BOM → COK          2376\n",
       "BLR → DEL                1552\n",
       "CCU → BOM → BLR           979\n",
       "CCU → BLR                 724\n",
       "BOM → HYD                 621\n",
       "                         ... \n",
       "CCU → VTZ → BLR             1\n",
       "CCU → IXZ → MAA → BLR       1\n",
       "BOM → COK → MAA → HYD       1\n",
       "BOM → CCU → HYD             1\n",
       "BOM → BBI → HYD             1\n",
       "Name: count, Length: 128, dtype: int64"
      ]
     },
     "execution_count": 37,
     "metadata": {},
     "output_type": "execute_result"
    }
   ],
   "source": [
    "df['Route'].value_counts()"
   ]
  },
  {
   "cell_type": "markdown",
   "id": "f62a2990",
   "metadata": {},
   "source": [
    "##### 3.1.10. \"Additional_Info\" columns"
   ]
  },
  {
   "cell_type": "code",
   "execution_count": 38,
   "id": "1f14785c",
   "metadata": {},
   "outputs": [
    {
     "data": {
      "text/plain": [
       "Additional_Info\n",
       "No info                         8345\n",
       "In-flight meal not included     1982\n",
       "No check-in baggage included     320\n",
       "1 Long layover                    19\n",
       "Change airports                    7\n",
       "Business class                     4\n",
       "No Info                            3\n",
       "1 Short layover                    1\n",
       "Red-eye flight                     1\n",
       "2 Long layover                     1\n",
       "Name: count, dtype: int64"
      ]
     },
     "execution_count": 38,
     "metadata": {},
     "output_type": "execute_result"
    }
   ],
   "source": [
    "df['Additional_Info'].value_counts()"
   ]
  },
  {
   "cell_type": "code",
   "execution_count": 39,
   "id": "620e1429",
   "metadata": {},
   "outputs": [
    {
     "data": {
      "text/plain": [
       "Index(['Airline', 'Date_of_Journey', 'Source', 'Destination', 'Route',\n",
       "       'Dep_Time', 'Arrival_Time', 'Duration', 'Total_Stops',\n",
       "       'Additional_Info', 'Price'],\n",
       "      dtype='object')"
      ]
     },
     "execution_count": 39,
     "metadata": {},
     "output_type": "execute_result"
    }
   ],
   "source": [
    "df.columns"
   ]
  },
  {
   "cell_type": "markdown",
   "id": "778abb26",
   "metadata": {},
   "source": [
    "- CONCLUSION :-\n",
    "    - We just need to clean Date_of_Journey, Dep_Time, Arrival_Time, Duration \n",
    "    - and Total_Stops. rest all are in it actual form."
   ]
  },
  {
   "cell_type": "markdown",
   "id": "dd05590b",
   "metadata": {},
   "source": [
    "### 3.2 CHECK FOR DUPLICATES"
   ]
  },
  {
   "cell_type": "code",
   "execution_count": 40,
   "id": "0aa0db23",
   "metadata": {},
   "outputs": [
    {
     "data": {
      "text/plain": [
       "220"
      ]
     },
     "execution_count": 40,
     "metadata": {},
     "output_type": "execute_result"
    }
   ],
   "source": [
    "df.duplicated().sum()"
   ]
  },
  {
   "cell_type": "code",
   "execution_count": 41,
   "id": "34d1a689",
   "metadata": {},
   "outputs": [
    {
     "data": {
      "text/plain": [
       "(10683, 11)"
      ]
     },
     "execution_count": 41,
     "metadata": {},
     "output_type": "execute_result"
    }
   ],
   "source": [
    "df.shape"
   ]
  },
  {
   "cell_type": "code",
   "execution_count": 42,
   "id": "45e4c373",
   "metadata": {},
   "outputs": [
    {
     "data": {
      "text/html": [
       "<div>\n",
       "<style scoped>\n",
       "    .dataframe tbody tr th:only-of-type {\n",
       "        vertical-align: middle;\n",
       "    }\n",
       "\n",
       "    .dataframe tbody tr th {\n",
       "        vertical-align: top;\n",
       "    }\n",
       "\n",
       "    .dataframe thead th {\n",
       "        text-align: right;\n",
       "    }\n",
       "</style>\n",
       "<table border=\"1\" class=\"dataframe\">\n",
       "  <thead>\n",
       "    <tr style=\"text-align: right;\">\n",
       "      <th></th>\n",
       "      <th>Airline</th>\n",
       "      <th>Date_of_Journey</th>\n",
       "      <th>Source</th>\n",
       "      <th>Destination</th>\n",
       "      <th>Route</th>\n",
       "      <th>Dep_Time</th>\n",
       "      <th>Arrival_Time</th>\n",
       "      <th>Duration</th>\n",
       "      <th>Total_Stops</th>\n",
       "      <th>Additional_Info</th>\n",
       "      <th>Price</th>\n",
       "    </tr>\n",
       "  </thead>\n",
       "  <tbody>\n",
       "    <tr>\n",
       "      <th>6321</th>\n",
       "      <td>Air India</td>\n",
       "      <td>01/03/2019</td>\n",
       "      <td>Banglore</td>\n",
       "      <td>New Delhi</td>\n",
       "      <td>BLR → BOM → AMD → DEL</td>\n",
       "      <td>08:50</td>\n",
       "      <td>23:55 02 Mar</td>\n",
       "      <td>39h 5m</td>\n",
       "      <td>2 stops</td>\n",
       "      <td>No info</td>\n",
       "      <td>17135</td>\n",
       "    </tr>\n",
       "    <tr>\n",
       "      <th>9848</th>\n",
       "      <td>Air India</td>\n",
       "      <td>01/03/2019</td>\n",
       "      <td>Banglore</td>\n",
       "      <td>New Delhi</td>\n",
       "      <td>BLR → BOM → AMD → DEL</td>\n",
       "      <td>08:50</td>\n",
       "      <td>23:55 02 Mar</td>\n",
       "      <td>39h 5m</td>\n",
       "      <td>2 stops</td>\n",
       "      <td>No info</td>\n",
       "      <td>17135</td>\n",
       "    </tr>\n",
       "    <tr>\n",
       "      <th>572</th>\n",
       "      <td>Air India</td>\n",
       "      <td>03/03/2019</td>\n",
       "      <td>Banglore</td>\n",
       "      <td>New Delhi</td>\n",
       "      <td>BLR → DEL</td>\n",
       "      <td>21:10</td>\n",
       "      <td>23:55</td>\n",
       "      <td>2h 45m</td>\n",
       "      <td>non-stop</td>\n",
       "      <td>No info</td>\n",
       "      <td>7591</td>\n",
       "    </tr>\n",
       "    <tr>\n",
       "      <th>8168</th>\n",
       "      <td>Air India</td>\n",
       "      <td>03/03/2019</td>\n",
       "      <td>Banglore</td>\n",
       "      <td>New Delhi</td>\n",
       "      <td>BLR → DEL</td>\n",
       "      <td>21:10</td>\n",
       "      <td>23:55</td>\n",
       "      <td>2h 45m</td>\n",
       "      <td>non-stop</td>\n",
       "      <td>No info</td>\n",
       "      <td>7591</td>\n",
       "    </tr>\n",
       "    <tr>\n",
       "      <th>1495</th>\n",
       "      <td>Air India</td>\n",
       "      <td>1/04/2019</td>\n",
       "      <td>Kolkata</td>\n",
       "      <td>Banglore</td>\n",
       "      <td>CCU → DEL → COK → BLR</td>\n",
       "      <td>10:00</td>\n",
       "      <td>01:20 02 Apr</td>\n",
       "      <td>15h 20m</td>\n",
       "      <td>2 stops</td>\n",
       "      <td>No info</td>\n",
       "      <td>10408</td>\n",
       "    </tr>\n",
       "    <tr>\n",
       "      <th>9913</th>\n",
       "      <td>Air India</td>\n",
       "      <td>1/04/2019</td>\n",
       "      <td>Kolkata</td>\n",
       "      <td>Banglore</td>\n",
       "      <td>CCU → DEL → COK → BLR</td>\n",
       "      <td>10:00</td>\n",
       "      <td>01:20 02 Apr</td>\n",
       "      <td>15h 20m</td>\n",
       "      <td>2 stops</td>\n",
       "      <td>No info</td>\n",
       "      <td>10408</td>\n",
       "    </tr>\n",
       "    <tr>\n",
       "      <th>3598</th>\n",
       "      <td>Air India</td>\n",
       "      <td>1/05/2019</td>\n",
       "      <td>Kolkata</td>\n",
       "      <td>Banglore</td>\n",
       "      <td>CCU → GAU → DEL → BLR</td>\n",
       "      <td>09:50</td>\n",
       "      <td>08:55 02 May</td>\n",
       "      <td>23h 5m</td>\n",
       "      <td>2 stops</td>\n",
       "      <td>No info</td>\n",
       "      <td>13227</td>\n",
       "    </tr>\n",
       "    <tr>\n",
       "      <th>10183</th>\n",
       "      <td>Air India</td>\n",
       "      <td>1/05/2019</td>\n",
       "      <td>Kolkata</td>\n",
       "      <td>Banglore</td>\n",
       "      <td>CCU → GAU → DEL → BLR</td>\n",
       "      <td>09:50</td>\n",
       "      <td>08:55 02 May</td>\n",
       "      <td>23h 5m</td>\n",
       "      <td>2 stops</td>\n",
       "      <td>No info</td>\n",
       "      <td>13227</td>\n",
       "    </tr>\n",
       "    <tr>\n",
       "      <th>4603</th>\n",
       "      <td>Air India</td>\n",
       "      <td>1/05/2019</td>\n",
       "      <td>Kolkata</td>\n",
       "      <td>Banglore</td>\n",
       "      <td>CCU → DEL → COK → BLR</td>\n",
       "      <td>10:00</td>\n",
       "      <td>13:45 02 May</td>\n",
       "      <td>27h 45m</td>\n",
       "      <td>2 stops</td>\n",
       "      <td>No info</td>\n",
       "      <td>15164</td>\n",
       "    </tr>\n",
       "    <tr>\n",
       "      <th>5042</th>\n",
       "      <td>Air India</td>\n",
       "      <td>1/05/2019</td>\n",
       "      <td>Kolkata</td>\n",
       "      <td>Banglore</td>\n",
       "      <td>CCU → DEL → COK → BLR</td>\n",
       "      <td>10:00</td>\n",
       "      <td>13:45 02 May</td>\n",
       "      <td>27h 45m</td>\n",
       "      <td>2 stops</td>\n",
       "      <td>No info</td>\n",
       "      <td>15164</td>\n",
       "    </tr>\n",
       "  </tbody>\n",
       "</table>\n",
       "</div>"
      ],
      "text/plain": [
       "         Airline Date_of_Journey    Source Destination                  Route  \\\n",
       "6321   Air India      01/03/2019  Banglore   New Delhi  BLR → BOM → AMD → DEL   \n",
       "9848   Air India      01/03/2019  Banglore   New Delhi  BLR → BOM → AMD → DEL   \n",
       "572    Air India      03/03/2019  Banglore   New Delhi              BLR → DEL   \n",
       "8168   Air India      03/03/2019  Banglore   New Delhi              BLR → DEL   \n",
       "1495   Air India       1/04/2019   Kolkata    Banglore  CCU → DEL → COK → BLR   \n",
       "9913   Air India       1/04/2019   Kolkata    Banglore  CCU → DEL → COK → BLR   \n",
       "3598   Air India       1/05/2019   Kolkata    Banglore  CCU → GAU → DEL → BLR   \n",
       "10183  Air India       1/05/2019   Kolkata    Banglore  CCU → GAU → DEL → BLR   \n",
       "4603   Air India       1/05/2019   Kolkata    Banglore  CCU → DEL → COK → BLR   \n",
       "5042   Air India       1/05/2019   Kolkata    Banglore  CCU → DEL → COK → BLR   \n",
       "\n",
       "      Dep_Time  Arrival_Time Duration Total_Stops Additional_Info  Price  \n",
       "6321     08:50  23:55 02 Mar   39h 5m     2 stops         No info  17135  \n",
       "9848     08:50  23:55 02 Mar   39h 5m     2 stops         No info  17135  \n",
       "572      21:10         23:55   2h 45m    non-stop         No info   7591  \n",
       "8168     21:10         23:55   2h 45m    non-stop         No info   7591  \n",
       "1495     10:00  01:20 02 Apr  15h 20m     2 stops         No info  10408  \n",
       "9913     10:00  01:20 02 Apr  15h 20m     2 stops         No info  10408  \n",
       "3598     09:50  08:55 02 May   23h 5m     2 stops         No info  13227  \n",
       "10183    09:50  08:55 02 May   23h 5m     2 stops         No info  13227  \n",
       "4603     10:00  13:45 02 May  27h 45m     2 stops         No info  15164  \n",
       "5042     10:00  13:45 02 May  27h 45m     2 stops         No info  15164  "
      ]
     },
     "execution_count": 42,
     "metadata": {},
     "output_type": "execute_result"
    }
   ],
   "source": [
    "df.loc[df.duplicated(keep=False)].sort_values(['Airline',\n",
    "                                               'Date_of_Journey',\n",
    "                                               'Source', 'Destination',\n",
    "                                               'Dep_Time'\n",
    "                                              ]).head(10)"
   ]
  },
  {
   "cell_type": "markdown",
   "id": "ef9eb0a9",
   "metadata": {},
   "source": [
    "- From the above observation, we have confirmed that there are 220 duplicates,\n",
    "- values which are present in our data set."
   ]
  },
  {
   "cell_type": "markdown",
   "id": "30c1019f",
   "metadata": {},
   "source": [
    "### 4. ANALYSING IN MORE DETAIL"
   ]
  },
  {
   "cell_type": "code",
   "execution_count": 43,
   "id": "a5e2a983",
   "metadata": {},
   "outputs": [
    {
     "data": {
      "text/plain": [
       "['IndiGo',\n",
       " 'Air India',\n",
       " 'Jet Airways',\n",
       " 'SpiceJet',\n",
       " 'Multiple carriers',\n",
       " 'GoAir',\n",
       " 'Vistara',\n",
       " 'Air Asia',\n",
       " 'Vistara Premium economy',\n",
       " 'Jet Airways Business',\n",
       " 'Multiple carriers Premium economy',\n",
       " 'Trujet']"
      ]
     },
     "execution_count": 43,
     "metadata": {},
     "output_type": "execute_result"
    }
   ],
   "source": [
    "[i for i in df['Airline'].unique()]"
   ]
  },
  {
   "cell_type": "code",
   "execution_count": 44,
   "id": "dc36d6a5",
   "metadata": {},
   "outputs": [
    {
     "data": {
      "text/plain": [
       "array(['Banglore', 'Kolkata', 'Delhi', 'Chennai', 'Mumbai'], dtype=object)"
      ]
     },
     "execution_count": 44,
     "metadata": {},
     "output_type": "execute_result"
    }
   ],
   "source": [
    "df['Source'].unique()"
   ]
  },
  {
   "cell_type": "code",
   "execution_count": 45,
   "id": "9619a615",
   "metadata": {},
   "outputs": [
    {
     "data": {
      "text/plain": [
       "['No info',\n",
       " 'In-flight meal not included',\n",
       " 'No check-in baggage included',\n",
       " '1 Short layover',\n",
       " 'No Info',\n",
       " '1 Long layover',\n",
       " 'Change airports',\n",
       " 'Business class',\n",
       " 'Red-eye flight',\n",
       " '2 Long layover']"
      ]
     },
     "execution_count": 45,
     "metadata": {},
     "output_type": "execute_result"
    }
   ],
   "source": [
    "[i for i in df['Additional_Info'].unique()]"
   ]
  },
  {
   "cell_type": "markdown",
   "id": "550044a8",
   "metadata": {},
   "source": [
    "- From this we can observe that just because of the case difference,\n",
    "- the values are identifying uniquely."
   ]
  },
  {
   "cell_type": "markdown",
   "id": "95b4e478",
   "metadata": {},
   "source": [
    "### 5. CLEANING OPERATIONS"
   ]
  },
  {
   "cell_type": "code",
   "execution_count": 203,
   "id": "3ebb0e8c",
   "metadata": {},
   "outputs": [],
   "source": [
    "# METHOD CHAINING\n",
    "# pandas method never affect actual data\n",
    "# dictionary comprehension\n",
    "\n",
    "\n",
    "def convertToMinutes(ser):\n",
    "    return (\n",
    "        ser\n",
    "        .str.split(\" \", expand=True) # expand turn series into dataframe\n",
    "        .set_axis([\"hour\", \"minute\"], axis=1)\n",
    "        .assign(\n",
    "            hour=lambda df_: (\n",
    "                df_\n",
    "                .hour\n",
    "                .str.replace(\"h\", \"\")\n",
    "                .astype(int)\n",
    "                .mul(60)\n",
    "            ),\n",
    "            minute=lambda df_: (\n",
    "                df_\n",
    "                .minute\n",
    "                .str.replace(\"m\", \"\")\n",
    "                .fillna(\"0\")\n",
    "                .astype(int)\n",
    "            )\n",
    "        )\n",
    "        .sum(axis=1)\n",
    "    )\n",
    "\n",
    "def cleanData(df):\n",
    "    extracted = df['Airline'].str.extract(r'^(.*?)\\s*(Premium economy|Business)?$')\n",
    "    return (\n",
    "        df\n",
    "        .drop(index=[6474])\n",
    "        .drop_duplicates()\n",
    "        .assign(**{\n",
    "            col: df[col].str.strip()\n",
    "            for col in df.select_dtypes(include='O').columns\n",
    "        })\n",
    "        .rename(columns=str.lower)\n",
    "        .assign(\n",
    "            airline=extracted[0].str.title(),  # Extracted Airline Name\n",
    "            class_=extracted[1].fillna(\"Economy\"),  # Extracted Class, filling NaN with \"Economy\"\n",
    "            date_of_journey = lambda df_: pd.to_datetime(df.Date_of_Journey, dayfirst=True),\n",
    "            dep_time = lambda df_: pd.to_datetime(df.Dep_Time).dt.time,\n",
    "            arrival_time = lambda df_: pd.to_datetime(df.Arrival_Time.str.split(\" \", n=1).str[0]).dt.time,\n",
    "            duration = lambda df_: convertToMinutes(df_.duration),\n",
    "            total_stops = lambda df_:(\n",
    "                df_.total_stops\n",
    "                .str.replace(\"non-stop\", '0')\n",
    "                .str.replace(\"2 stops\", \"2\")\n",
    "                .str.replace(\"1 stop\", \"1\")\n",
    "                .str.replace(\"3 stops\", \"3\")\n",
    "                .str.replace(\"4 stops\", '4')\n",
    "                .pipe(lambda ser: pd.to_numeric(ser))\n",
    "            ),\n",
    "            additional_info = lambda df_: df_.additional_info.replace(\"No info\", \"No Info\")\n",
    "        )\n",
    "        .drop(columns='route')\n",
    "    )\n",
    "\n"
   ]
  },
  {
   "cell_type": "code",
   "execution_count": 205,
   "id": "e0019246",
   "metadata": {},
   "outputs": [
    {
     "data": {
      "text/html": [
       "<div>\n",
       "<style scoped>\n",
       "    .dataframe tbody tr th:only-of-type {\n",
       "        vertical-align: middle;\n",
       "    }\n",
       "\n",
       "    .dataframe tbody tr th {\n",
       "        vertical-align: top;\n",
       "    }\n",
       "\n",
       "    .dataframe thead th {\n",
       "        text-align: right;\n",
       "    }\n",
       "</style>\n",
       "<table border=\"1\" class=\"dataframe\">\n",
       "  <thead>\n",
       "    <tr style=\"text-align: right;\">\n",
       "      <th></th>\n",
       "      <th>airline</th>\n",
       "      <th>date_of_journey</th>\n",
       "      <th>source</th>\n",
       "      <th>destination</th>\n",
       "      <th>dep_time</th>\n",
       "      <th>arrival_time</th>\n",
       "      <th>duration</th>\n",
       "      <th>total_stops</th>\n",
       "      <th>additional_info</th>\n",
       "      <th>price</th>\n",
       "      <th>class_</th>\n",
       "    </tr>\n",
       "  </thead>\n",
       "  <tbody>\n",
       "    <tr>\n",
       "      <th>0</th>\n",
       "      <td>Indigo</td>\n",
       "      <td>2019-03-24</td>\n",
       "      <td>Banglore</td>\n",
       "      <td>New Delhi</td>\n",
       "      <td>22:20:00</td>\n",
       "      <td>01:10:00</td>\n",
       "      <td>170</td>\n",
       "      <td>0.0</td>\n",
       "      <td>No Info</td>\n",
       "      <td>3897</td>\n",
       "      <td>Economy</td>\n",
       "    </tr>\n",
       "    <tr>\n",
       "      <th>1</th>\n",
       "      <td>Air India</td>\n",
       "      <td>2019-05-01</td>\n",
       "      <td>Kolkata</td>\n",
       "      <td>Banglore</td>\n",
       "      <td>05:50:00</td>\n",
       "      <td>13:15:00</td>\n",
       "      <td>445</td>\n",
       "      <td>2.0</td>\n",
       "      <td>No Info</td>\n",
       "      <td>7662</td>\n",
       "      <td>Economy</td>\n",
       "    </tr>\n",
       "    <tr>\n",
       "      <th>2</th>\n",
       "      <td>Jet Airways</td>\n",
       "      <td>2019-06-09</td>\n",
       "      <td>Delhi</td>\n",
       "      <td>Cochin</td>\n",
       "      <td>09:25:00</td>\n",
       "      <td>04:25:00</td>\n",
       "      <td>1140</td>\n",
       "      <td>2.0</td>\n",
       "      <td>No Info</td>\n",
       "      <td>13882</td>\n",
       "      <td>Economy</td>\n",
       "    </tr>\n",
       "    <tr>\n",
       "      <th>3</th>\n",
       "      <td>Indigo</td>\n",
       "      <td>2019-05-12</td>\n",
       "      <td>Kolkata</td>\n",
       "      <td>Banglore</td>\n",
       "      <td>18:05:00</td>\n",
       "      <td>23:30:00</td>\n",
       "      <td>325</td>\n",
       "      <td>1.0</td>\n",
       "      <td>No Info</td>\n",
       "      <td>6218</td>\n",
       "      <td>Economy</td>\n",
       "    </tr>\n",
       "    <tr>\n",
       "      <th>4</th>\n",
       "      <td>Indigo</td>\n",
       "      <td>2019-03-01</td>\n",
       "      <td>Banglore</td>\n",
       "      <td>New Delhi</td>\n",
       "      <td>16:50:00</td>\n",
       "      <td>21:35:00</td>\n",
       "      <td>285</td>\n",
       "      <td>1.0</td>\n",
       "      <td>No Info</td>\n",
       "      <td>13302</td>\n",
       "      <td>Economy</td>\n",
       "    </tr>\n",
       "    <tr>\n",
       "      <th>...</th>\n",
       "      <td>...</td>\n",
       "      <td>...</td>\n",
       "      <td>...</td>\n",
       "      <td>...</td>\n",
       "      <td>...</td>\n",
       "      <td>...</td>\n",
       "      <td>...</td>\n",
       "      <td>...</td>\n",
       "      <td>...</td>\n",
       "      <td>...</td>\n",
       "      <td>...</td>\n",
       "    </tr>\n",
       "    <tr>\n",
       "      <th>10678</th>\n",
       "      <td>Air Asia</td>\n",
       "      <td>2019-04-09</td>\n",
       "      <td>Kolkata</td>\n",
       "      <td>Banglore</td>\n",
       "      <td>19:55:00</td>\n",
       "      <td>22:25:00</td>\n",
       "      <td>150</td>\n",
       "      <td>0.0</td>\n",
       "      <td>No Info</td>\n",
       "      <td>4107</td>\n",
       "      <td>Economy</td>\n",
       "    </tr>\n",
       "    <tr>\n",
       "      <th>10679</th>\n",
       "      <td>Air India</td>\n",
       "      <td>2019-04-27</td>\n",
       "      <td>Kolkata</td>\n",
       "      <td>Banglore</td>\n",
       "      <td>20:45:00</td>\n",
       "      <td>23:20:00</td>\n",
       "      <td>155</td>\n",
       "      <td>0.0</td>\n",
       "      <td>No Info</td>\n",
       "      <td>4145</td>\n",
       "      <td>Economy</td>\n",
       "    </tr>\n",
       "    <tr>\n",
       "      <th>10680</th>\n",
       "      <td>Jet Airways</td>\n",
       "      <td>2019-04-27</td>\n",
       "      <td>Banglore</td>\n",
       "      <td>Delhi</td>\n",
       "      <td>08:20:00</td>\n",
       "      <td>11:20:00</td>\n",
       "      <td>180</td>\n",
       "      <td>0.0</td>\n",
       "      <td>No Info</td>\n",
       "      <td>7229</td>\n",
       "      <td>Economy</td>\n",
       "    </tr>\n",
       "    <tr>\n",
       "      <th>10681</th>\n",
       "      <td>Vistara</td>\n",
       "      <td>2019-03-01</td>\n",
       "      <td>Banglore</td>\n",
       "      <td>New Delhi</td>\n",
       "      <td>11:30:00</td>\n",
       "      <td>14:10:00</td>\n",
       "      <td>160</td>\n",
       "      <td>0.0</td>\n",
       "      <td>No Info</td>\n",
       "      <td>12648</td>\n",
       "      <td>Economy</td>\n",
       "    </tr>\n",
       "    <tr>\n",
       "      <th>10682</th>\n",
       "      <td>Air India</td>\n",
       "      <td>2019-05-09</td>\n",
       "      <td>Delhi</td>\n",
       "      <td>Cochin</td>\n",
       "      <td>10:55:00</td>\n",
       "      <td>19:15:00</td>\n",
       "      <td>500</td>\n",
       "      <td>2.0</td>\n",
       "      <td>No Info</td>\n",
       "      <td>11753</td>\n",
       "      <td>Economy</td>\n",
       "    </tr>\n",
       "  </tbody>\n",
       "</table>\n",
       "<p>10462 rows × 11 columns</p>\n",
       "</div>"
      ],
      "text/plain": [
       "           airline date_of_journey    source destination  dep_time  \\\n",
       "0           Indigo      2019-03-24  Banglore   New Delhi  22:20:00   \n",
       "1        Air India      2019-05-01   Kolkata    Banglore  05:50:00   \n",
       "2      Jet Airways      2019-06-09     Delhi      Cochin  09:25:00   \n",
       "3           Indigo      2019-05-12   Kolkata    Banglore  18:05:00   \n",
       "4           Indigo      2019-03-01  Banglore   New Delhi  16:50:00   \n",
       "...            ...             ...       ...         ...       ...   \n",
       "10678     Air Asia      2019-04-09   Kolkata    Banglore  19:55:00   \n",
       "10679    Air India      2019-04-27   Kolkata    Banglore  20:45:00   \n",
       "10680  Jet Airways      2019-04-27  Banglore       Delhi  08:20:00   \n",
       "10681      Vistara      2019-03-01  Banglore   New Delhi  11:30:00   \n",
       "10682    Air India      2019-05-09     Delhi      Cochin  10:55:00   \n",
       "\n",
       "      arrival_time  duration  total_stops additional_info  price   class_  \n",
       "0         01:10:00       170          0.0         No Info   3897  Economy  \n",
       "1         13:15:00       445          2.0         No Info   7662  Economy  \n",
       "2         04:25:00      1140          2.0         No Info  13882  Economy  \n",
       "3         23:30:00       325          1.0         No Info   6218  Economy  \n",
       "4         21:35:00       285          1.0         No Info  13302  Economy  \n",
       "...            ...       ...          ...             ...    ...      ...  \n",
       "10678     22:25:00       150          0.0         No Info   4107  Economy  \n",
       "10679     23:20:00       155          0.0         No Info   4145  Economy  \n",
       "10680     11:20:00       180          0.0         No Info   7229  Economy  \n",
       "10681     14:10:00       160          0.0         No Info  12648  Economy  \n",
       "10682     19:15:00       500          2.0         No Info  11753  Economy  \n",
       "\n",
       "[10462 rows x 11 columns]"
      ]
     },
     "execution_count": 205,
     "metadata": {},
     "output_type": "execute_result"
    }
   ],
   "source": [
    "cleanData(df)"
   ]
  },
  {
   "cell_type": "code",
   "execution_count": 206,
   "id": "e97805e1",
   "metadata": {},
   "outputs": [],
   "source": [
    "cleanedData = cleanData(df)"
   ]
  },
  {
   "cell_type": "code",
   "execution_count": 207,
   "id": "7371d55a",
   "metadata": {},
   "outputs": [
    {
     "name": "stdout",
     "output_type": "stream",
     "text": [
      "<class 'pandas.core.frame.DataFrame'>\n",
      "Index: 10462 entries, 0 to 10682\n",
      "Data columns (total 11 columns):\n",
      " #   Column           Non-Null Count  Dtype         \n",
      "---  ------           --------------  -----         \n",
      " 0   airline          10462 non-null  object        \n",
      " 1   date_of_journey  10462 non-null  datetime64[ns]\n",
      " 2   source           10462 non-null  object        \n",
      " 3   destination      10462 non-null  object        \n",
      " 4   dep_time         10462 non-null  object        \n",
      " 5   arrival_time     10462 non-null  object        \n",
      " 6   duration         10462 non-null  int64         \n",
      " 7   total_stops      10461 non-null  float64       \n",
      " 8   additional_info  10462 non-null  object        \n",
      " 9   price            10462 non-null  int64         \n",
      " 10  class_           10462 non-null  object        \n",
      "dtypes: datetime64[ns](1), float64(1), int64(2), object(7)\n",
      "memory usage: 980.8+ KB\n"
     ]
    }
   ],
   "source": [
    "cleanedData.info()"
   ]
  },
  {
   "cell_type": "code",
   "execution_count": null,
   "id": "7436499c",
   "metadata": {},
   "outputs": [],
   "source": []
  },
  {
   "cell_type": "code",
   "execution_count": 209,
   "id": "49e4a118",
   "metadata": {},
   "outputs": [],
   "source": [
    "x = cleanedData.drop(columns='price')\n",
    "y = cleanedData['price']"
   ]
  },
  {
   "cell_type": "code",
   "execution_count": 210,
   "id": "a9b7cae6",
   "metadata": {},
   "outputs": [],
   "source": [
    "from sklearn.model_selection import train_test_split"
   ]
  },
  {
   "cell_type": "code",
   "execution_count": 211,
   "id": "ae256201",
   "metadata": {},
   "outputs": [],
   "source": [
    "X_, X_test, Y_, Y_test = train_test_split(x, y, test_size = 0.2, random_state=101)"
   ]
  },
  {
   "cell_type": "code",
   "execution_count": 212,
   "id": "67ba13ad",
   "metadata": {},
   "outputs": [],
   "source": [
    "X_train, X_val, Y_train, Y_val = train_test_split(X_, Y_, test_size=0.2, random_state=101)"
   ]
  },
  {
   "cell_type": "code",
   "execution_count": 213,
   "id": "7778faf6",
   "metadata": {},
   "outputs": [
    {
     "name": "stdout",
     "output_type": "stream",
     "text": [
      "The Shape of X_train: (6695, 10)\n",
      "The Shape of X_test: (2093, 10)\n",
      "The Shape of X_val: (1674, 10)\n",
      "The Shape of Y_test: (2093,)\n",
      "The Shape of Y_train: (6695,)\n",
      "The Shape of Y_val: (1674,)\n"
     ]
    }
   ],
   "source": [
    "print(\"The Shape of X_train:\", X_train.shape)\n",
    "print(\"The Shape of X_test:\", X_test.shape)\n",
    "print(\"The Shape of X_val:\", X_val.shape)\n",
    "print(\"The Shape of Y_test:\", Y_test.shape)\n",
    "print(\"The Shape of Y_train:\", Y_train.shape)\n",
    "print(\"The Shape of Y_val:\", Y_val.shape)"
   ]
  },
  {
   "cell_type": "code",
   "execution_count": 214,
   "id": "b173518c",
   "metadata": {},
   "outputs": [],
   "source": [
    "PROJECT_DIR = r\"C:\\Users\\shrey\\Desktop\\DEEP LEARNING PROJECTS\\3. flight Price Prediction\"\n",
    "DATA_DIR = \"Data\""
   ]
  },
  {
   "cell_type": "code",
   "execution_count": 215,
   "id": "fc724e88",
   "metadata": {},
   "outputs": [],
   "source": [
    "def export_data(X, Y, name):\n",
    "    file_name = f\"{name}.csv\"\n",
    "    file_path = os.path.join(PROJECT_DIR, DATA_DIR, file_name)\n",
    "    \n",
    "    X.join(Y).to_csv(file_path, index = False)\n",
    "    return pd.read_csv(file_path).head()"
   ]
  },
  {
   "cell_type": "code",
   "execution_count": 216,
   "id": "2b9bc594",
   "metadata": {},
   "outputs": [
    {
     "data": {
      "text/html": [
       "<div>\n",
       "<style scoped>\n",
       "    .dataframe tbody tr th:only-of-type {\n",
       "        vertical-align: middle;\n",
       "    }\n",
       "\n",
       "    .dataframe tbody tr th {\n",
       "        vertical-align: top;\n",
       "    }\n",
       "\n",
       "    .dataframe thead th {\n",
       "        text-align: right;\n",
       "    }\n",
       "</style>\n",
       "<table border=\"1\" class=\"dataframe\">\n",
       "  <thead>\n",
       "    <tr style=\"text-align: right;\">\n",
       "      <th></th>\n",
       "      <th>airline</th>\n",
       "      <th>date_of_journey</th>\n",
       "      <th>source</th>\n",
       "      <th>destination</th>\n",
       "      <th>dep_time</th>\n",
       "      <th>arrival_time</th>\n",
       "      <th>duration</th>\n",
       "      <th>total_stops</th>\n",
       "      <th>additional_info</th>\n",
       "      <th>class_</th>\n",
       "      <th>price</th>\n",
       "    </tr>\n",
       "  </thead>\n",
       "  <tbody>\n",
       "    <tr>\n",
       "      <th>0</th>\n",
       "      <td>Indigo</td>\n",
       "      <td>2019-05-09</td>\n",
       "      <td>Delhi</td>\n",
       "      <td>Cochin</td>\n",
       "      <td>06:50:00</td>\n",
       "      <td>16:10:00</td>\n",
       "      <td>560</td>\n",
       "      <td>1.0</td>\n",
       "      <td>No Info</td>\n",
       "      <td>Economy</td>\n",
       "      <td>6442</td>\n",
       "    </tr>\n",
       "    <tr>\n",
       "      <th>1</th>\n",
       "      <td>Air India</td>\n",
       "      <td>2019-04-03</td>\n",
       "      <td>Mumbai</td>\n",
       "      <td>Hyderabad</td>\n",
       "      <td>06:20:00</td>\n",
       "      <td>07:40:00</td>\n",
       "      <td>80</td>\n",
       "      <td>0.0</td>\n",
       "      <td>No Info</td>\n",
       "      <td>Economy</td>\n",
       "      <td>3100</td>\n",
       "    </tr>\n",
       "    <tr>\n",
       "      <th>2</th>\n",
       "      <td>Spicejet</td>\n",
       "      <td>2019-05-15</td>\n",
       "      <td>Kolkata</td>\n",
       "      <td>Banglore</td>\n",
       "      <td>11:15:00</td>\n",
       "      <td>18:30:00</td>\n",
       "      <td>435</td>\n",
       "      <td>1.0</td>\n",
       "      <td>No Info</td>\n",
       "      <td>Economy</td>\n",
       "      <td>8844</td>\n",
       "    </tr>\n",
       "    <tr>\n",
       "      <th>3</th>\n",
       "      <td>Jet Airways</td>\n",
       "      <td>2019-06-09</td>\n",
       "      <td>Delhi</td>\n",
       "      <td>Cochin</td>\n",
       "      <td>19:45:00</td>\n",
       "      <td>12:35:00</td>\n",
       "      <td>1010</td>\n",
       "      <td>1.0</td>\n",
       "      <td>In-flight meal not included</td>\n",
       "      <td>Economy</td>\n",
       "      <td>10577</td>\n",
       "    </tr>\n",
       "    <tr>\n",
       "      <th>4</th>\n",
       "      <td>Jet Airways</td>\n",
       "      <td>2019-06-18</td>\n",
       "      <td>Delhi</td>\n",
       "      <td>Cochin</td>\n",
       "      <td>09:50:00</td>\n",
       "      <td>13:05:00</td>\n",
       "      <td>195</td>\n",
       "      <td>0.0</td>\n",
       "      <td>No Info</td>\n",
       "      <td>Economy</td>\n",
       "      <td>9564</td>\n",
       "    </tr>\n",
       "  </tbody>\n",
       "</table>\n",
       "</div>"
      ],
      "text/plain": [
       "       airline date_of_journey   source destination  dep_time arrival_time  \\\n",
       "0       Indigo      2019-05-09    Delhi      Cochin  06:50:00     16:10:00   \n",
       "1    Air India      2019-04-03   Mumbai   Hyderabad  06:20:00     07:40:00   \n",
       "2     Spicejet      2019-05-15  Kolkata    Banglore  11:15:00     18:30:00   \n",
       "3  Jet Airways      2019-06-09    Delhi      Cochin  19:45:00     12:35:00   \n",
       "4  Jet Airways      2019-06-18    Delhi      Cochin  09:50:00     13:05:00   \n",
       "\n",
       "   duration  total_stops              additional_info   class_  price  \n",
       "0       560          1.0                      No Info  Economy   6442  \n",
       "1        80          0.0                      No Info  Economy   3100  \n",
       "2       435          1.0                      No Info  Economy   8844  \n",
       "3      1010          1.0  In-flight meal not included  Economy  10577  \n",
       "4       195          0.0                      No Info  Economy   9564  "
      ]
     },
     "execution_count": 216,
     "metadata": {},
     "output_type": "execute_result"
    }
   ],
   "source": [
    "export_data(X_train, Y_train, \"Train\")"
   ]
  },
  {
   "cell_type": "code",
   "execution_count": 217,
   "id": "0dc3d989",
   "metadata": {},
   "outputs": [
    {
     "data": {
      "text/html": [
       "<div>\n",
       "<style scoped>\n",
       "    .dataframe tbody tr th:only-of-type {\n",
       "        vertical-align: middle;\n",
       "    }\n",
       "\n",
       "    .dataframe tbody tr th {\n",
       "        vertical-align: top;\n",
       "    }\n",
       "\n",
       "    .dataframe thead th {\n",
       "        text-align: right;\n",
       "    }\n",
       "</style>\n",
       "<table border=\"1\" class=\"dataframe\">\n",
       "  <thead>\n",
       "    <tr style=\"text-align: right;\">\n",
       "      <th></th>\n",
       "      <th>airline</th>\n",
       "      <th>date_of_journey</th>\n",
       "      <th>source</th>\n",
       "      <th>destination</th>\n",
       "      <th>dep_time</th>\n",
       "      <th>arrival_time</th>\n",
       "      <th>duration</th>\n",
       "      <th>total_stops</th>\n",
       "      <th>additional_info</th>\n",
       "      <th>class_</th>\n",
       "      <th>price</th>\n",
       "    </tr>\n",
       "  </thead>\n",
       "  <tbody>\n",
       "    <tr>\n",
       "      <th>0</th>\n",
       "      <td>Spicejet</td>\n",
       "      <td>2019-03-09</td>\n",
       "      <td>Chennai</td>\n",
       "      <td>Kolkata</td>\n",
       "      <td>08:20:00</td>\n",
       "      <td>10:35:00</td>\n",
       "      <td>135</td>\n",
       "      <td>0.0</td>\n",
       "      <td>No Info</td>\n",
       "      <td>Economy</td>\n",
       "      <td>6300</td>\n",
       "    </tr>\n",
       "    <tr>\n",
       "      <th>1</th>\n",
       "      <td>Jet Airways</td>\n",
       "      <td>2019-05-27</td>\n",
       "      <td>Delhi</td>\n",
       "      <td>Cochin</td>\n",
       "      <td>13:25:00</td>\n",
       "      <td>04:25:00</td>\n",
       "      <td>900</td>\n",
       "      <td>2.0</td>\n",
       "      <td>No Info</td>\n",
       "      <td>Economy</td>\n",
       "      <td>16704</td>\n",
       "    </tr>\n",
       "    <tr>\n",
       "      <th>2</th>\n",
       "      <td>Multiple Carriers</td>\n",
       "      <td>2019-05-09</td>\n",
       "      <td>Delhi</td>\n",
       "      <td>Cochin</td>\n",
       "      <td>11:30:00</td>\n",
       "      <td>01:30:00</td>\n",
       "      <td>840</td>\n",
       "      <td>1.0</td>\n",
       "      <td>No Info</td>\n",
       "      <td>Economy</td>\n",
       "      <td>15078</td>\n",
       "    </tr>\n",
       "    <tr>\n",
       "      <th>3</th>\n",
       "      <td>Indigo</td>\n",
       "      <td>2019-06-18</td>\n",
       "      <td>Kolkata</td>\n",
       "      <td>Banglore</td>\n",
       "      <td>21:25:00</td>\n",
       "      <td>00:05:00</td>\n",
       "      <td>160</td>\n",
       "      <td>0.0</td>\n",
       "      <td>No Info</td>\n",
       "      <td>Economy</td>\n",
       "      <td>4804</td>\n",
       "    </tr>\n",
       "    <tr>\n",
       "      <th>4</th>\n",
       "      <td>Multiple Carriers</td>\n",
       "      <td>2019-05-21</td>\n",
       "      <td>Delhi</td>\n",
       "      <td>Cochin</td>\n",
       "      <td>14:00:00</td>\n",
       "      <td>21:00:00</td>\n",
       "      <td>420</td>\n",
       "      <td>1.0</td>\n",
       "      <td>No Info</td>\n",
       "      <td>Economy</td>\n",
       "      <td>14067</td>\n",
       "    </tr>\n",
       "  </tbody>\n",
       "</table>\n",
       "</div>"
      ],
      "text/plain": [
       "             airline date_of_journey   source destination  dep_time  \\\n",
       "0           Spicejet      2019-03-09  Chennai     Kolkata  08:20:00   \n",
       "1        Jet Airways      2019-05-27    Delhi      Cochin  13:25:00   \n",
       "2  Multiple Carriers      2019-05-09    Delhi      Cochin  11:30:00   \n",
       "3             Indigo      2019-06-18  Kolkata    Banglore  21:25:00   \n",
       "4  Multiple Carriers      2019-05-21    Delhi      Cochin  14:00:00   \n",
       "\n",
       "  arrival_time  duration  total_stops additional_info   class_  price  \n",
       "0     10:35:00       135          0.0         No Info  Economy   6300  \n",
       "1     04:25:00       900          2.0         No Info  Economy  16704  \n",
       "2     01:30:00       840          1.0         No Info  Economy  15078  \n",
       "3     00:05:00       160          0.0         No Info  Economy   4804  \n",
       "4     21:00:00       420          1.0         No Info  Economy  14067  "
      ]
     },
     "execution_count": 217,
     "metadata": {},
     "output_type": "execute_result"
    }
   ],
   "source": [
    "export_data(X_test, Y_test, \"Test\")"
   ]
  },
  {
   "cell_type": "code",
   "execution_count": 218,
   "id": "5d61516d",
   "metadata": {},
   "outputs": [
    {
     "data": {
      "text/html": [
       "<div>\n",
       "<style scoped>\n",
       "    .dataframe tbody tr th:only-of-type {\n",
       "        vertical-align: middle;\n",
       "    }\n",
       "\n",
       "    .dataframe tbody tr th {\n",
       "        vertical-align: top;\n",
       "    }\n",
       "\n",
       "    .dataframe thead th {\n",
       "        text-align: right;\n",
       "    }\n",
       "</style>\n",
       "<table border=\"1\" class=\"dataframe\">\n",
       "  <thead>\n",
       "    <tr style=\"text-align: right;\">\n",
       "      <th></th>\n",
       "      <th>airline</th>\n",
       "      <th>date_of_journey</th>\n",
       "      <th>source</th>\n",
       "      <th>destination</th>\n",
       "      <th>dep_time</th>\n",
       "      <th>arrival_time</th>\n",
       "      <th>duration</th>\n",
       "      <th>total_stops</th>\n",
       "      <th>additional_info</th>\n",
       "      <th>class_</th>\n",
       "      <th>price</th>\n",
       "    </tr>\n",
       "  </thead>\n",
       "  <tbody>\n",
       "    <tr>\n",
       "      <th>0</th>\n",
       "      <td>Spicejet</td>\n",
       "      <td>2019-06-01</td>\n",
       "      <td>Banglore</td>\n",
       "      <td>Delhi</td>\n",
       "      <td>05:55:00</td>\n",
       "      <td>08:35:00</td>\n",
       "      <td>160</td>\n",
       "      <td>0.0</td>\n",
       "      <td>No Info</td>\n",
       "      <td>Economy</td>\n",
       "      <td>3625</td>\n",
       "    </tr>\n",
       "    <tr>\n",
       "      <th>1</th>\n",
       "      <td>Jet Airways</td>\n",
       "      <td>2019-06-21</td>\n",
       "      <td>Banglore</td>\n",
       "      <td>Delhi</td>\n",
       "      <td>17:45:00</td>\n",
       "      <td>20:45:00</td>\n",
       "      <td>180</td>\n",
       "      <td>0.0</td>\n",
       "      <td>In-flight meal not included</td>\n",
       "      <td>Economy</td>\n",
       "      <td>7754</td>\n",
       "    </tr>\n",
       "    <tr>\n",
       "      <th>2</th>\n",
       "      <td>Jet Airways</td>\n",
       "      <td>2019-03-12</td>\n",
       "      <td>Banglore</td>\n",
       "      <td>New Delhi</td>\n",
       "      <td>05:45:00</td>\n",
       "      <td>20:20:00</td>\n",
       "      <td>875</td>\n",
       "      <td>1.0</td>\n",
       "      <td>No Info</td>\n",
       "      <td>Economy</td>\n",
       "      <td>13817</td>\n",
       "    </tr>\n",
       "    <tr>\n",
       "      <th>3</th>\n",
       "      <td>Jet Airways</td>\n",
       "      <td>2019-06-12</td>\n",
       "      <td>Mumbai</td>\n",
       "      <td>Hyderabad</td>\n",
       "      <td>19:35:00</td>\n",
       "      <td>21:05:00</td>\n",
       "      <td>90</td>\n",
       "      <td>0.0</td>\n",
       "      <td>No Info</td>\n",
       "      <td>Economy</td>\n",
       "      <td>5678</td>\n",
       "    </tr>\n",
       "    <tr>\n",
       "      <th>4</th>\n",
       "      <td>Jet Airways</td>\n",
       "      <td>2019-06-27</td>\n",
       "      <td>Delhi</td>\n",
       "      <td>Cochin</td>\n",
       "      <td>15:00:00</td>\n",
       "      <td>12:35:00</td>\n",
       "      <td>1295</td>\n",
       "      <td>1.0</td>\n",
       "      <td>In-flight meal not included</td>\n",
       "      <td>Economy</td>\n",
       "      <td>10262</td>\n",
       "    </tr>\n",
       "  </tbody>\n",
       "</table>\n",
       "</div>"
      ],
      "text/plain": [
       "       airline date_of_journey    source destination  dep_time arrival_time  \\\n",
       "0     Spicejet      2019-06-01  Banglore       Delhi  05:55:00     08:35:00   \n",
       "1  Jet Airways      2019-06-21  Banglore       Delhi  17:45:00     20:45:00   \n",
       "2  Jet Airways      2019-03-12  Banglore   New Delhi  05:45:00     20:20:00   \n",
       "3  Jet Airways      2019-06-12    Mumbai   Hyderabad  19:35:00     21:05:00   \n",
       "4  Jet Airways      2019-06-27     Delhi      Cochin  15:00:00     12:35:00   \n",
       "\n",
       "   duration  total_stops              additional_info   class_  price  \n",
       "0       160          0.0                      No Info  Economy   3625  \n",
       "1       180          0.0  In-flight meal not included  Economy   7754  \n",
       "2       875          1.0                      No Info  Economy  13817  \n",
       "3        90          0.0                      No Info  Economy   5678  \n",
       "4      1295          1.0  In-flight meal not included  Economy  10262  "
      ]
     },
     "execution_count": 218,
     "metadata": {},
     "output_type": "execute_result"
    }
   ],
   "source": [
    "export_data(X_val, Y_val, \"Validation\")"
   ]
  },
  {
   "cell_type": "code",
   "execution_count": null,
   "id": "982fa0fe",
   "metadata": {},
   "outputs": [],
   "source": []
  }
 ],
 "metadata": {
  "kernelspec": {
   "display_name": "FLASK_init",
   "language": "python",
   "name": "flask_init"
  },
  "language_info": {
   "codemirror_mode": {
    "name": "ipython",
    "version": 3
   },
   "file_extension": ".py",
   "mimetype": "text/x-python",
   "name": "python",
   "nbconvert_exporter": "python",
   "pygments_lexer": "ipython3",
   "version": "3.11.2"
  }
 },
 "nbformat": 4,
 "nbformat_minor": 5
}
